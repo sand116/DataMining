{
 "cells": [
  {
   "cell_type": "markdown",
   "metadata": {},
   "source": [
    "# 1. simplelinear regression "
   ]
  },
  {
   "cell_type": "markdown",
   "metadata": {},
   "source": [
    "## Grandient descent"
   ]
  },
  {
   "cell_type": "code",
   "execution_count": 5,
   "metadata": {},
   "outputs": [
    {
     "name": "stdout",
     "output_type": "stream",
     "text": [
      "    0 |     2.4520 |   0.376000\n",
      "   10 |     1.1036 |   0.003398\n",
      "   20 |     1.0128 |  -0.020915\n",
      "   30 |     1.0065 |  -0.021845\n",
      "   40 |     1.0059 |  -0.021227\n",
      "   50 |     1.0057 |  -0.020527\n",
      "   60 |     1.0055 |  -0.019844\n",
      "   70 |     1.0053 |  -0.019183\n",
      "   80 |     1.0051 |  -0.018544\n",
      "   90 |     1.0050 |  -0.017927\n"
     ]
    }
   ],
   "source": [
    "# Gradient desent - 미분하여cost를 minimize하는 W,b를 찾음\n",
    "learning_rate=0.01\n",
    "import tensorflow as tf\n",
    "tf.enable_eager_execution()\n",
    "\n",
    "#h(x)=Wx+b\n",
    "x_data=[1,2,3,4,5]\n",
    "y_data=[1,2,3,4,5]\n",
    "\n",
    "W=tf.Variable(2.9) #초기화 2.9\n",
    "b=tf.Variable(0.5) #초기화  0.5\n",
    "\n",
    "#hypothesis=W*x_data+b\n",
    "#cost(W,b)\n",
    "#cost=tf.reduce_mean(tf.square(hypothesis -y_data))\n",
    "#tf.reduce_mean() #차원을 줄이면서 mean을 구한 다는 의미\n",
    "for i in range(100) : #!00번 수행\n",
    "    with tf.GradientTape() as tape :\n",
    "        hypothesis=W*x_data+b\n",
    "        cost = tf.reduce_mean(tf.square(hypothesis-y_data))\n",
    "    W_grad,b_grad= tape.gradient(cost,[W,b]) #cost 함수를 w,b에 대해 각각 미분한 값을 반환\n",
    "    W.assign_sub(learning_rate*W_grad)#a.assign_sub(b)=> a=a-b\n",
    "    b.assign_sub(learning_rate*b_grad)\n",
    "    if i%10 ==0 :\n",
    "        print(\"{:5} | {:10.4f} | {:10.6f}\".format(i,W.numpy(),b.numpy(),cost))"
   ]
  },
  {
   "cell_type": "markdown",
   "metadata": {},
   "source": [
    "## gradient -numpy&tensorflow로 구현"
   ]
  },
  {
   "cell_type": "code",
   "execution_count": 9,
   "metadata": {},
   "outputs": [
    {
     "name": "stdout",
     "output_type": "stream",
     "text": [
      "-3.000 |   74.66667\n",
      "-2.429 |   54.85714\n",
      "-1.857 |   38.09524\n",
      "-1.286 |   24.38095\n",
      "-0.714 |   13.71429\n",
      "-0.143 |    6.09524\n",
      " 0.429 |    1.52381\n",
      " 1.000 |    0.00000\n",
      " 1.571 |    1.52381\n",
      " 2.143 |    6.09524\n",
      " 2.714 |   13.71429\n",
      " 3.286 |   24.38095\n",
      " 3.857 |   38.09524\n",
      " 4.429 |   54.85714\n",
      " 5.000 |   74.66667\n"
     ]
    }
   ],
   "source": [
    "# COST함수값 출력\n",
    "import numpy as np\n",
    "X=np.array([1,2,3])\n",
    "Y=np.array([1,2,3])\n",
    "def cost_func(W,X,Y) :\n",
    "    hypothesis=X*W\n",
    "    return tf.reduce_mean(tf.square(hypothesis - Y))\n",
    "W_values=np.linspace(-3,5,num=15) #-3~5까지 15구역으로 나눔\n",
    "cost_values=[]\n",
    "\n",
    "for feed_W in W_values:\n",
    "        curr_cost=cost_func(feed_W,X,Y)\n",
    "        cost_values.append(curr_cost)\n",
    "        print(\"{:6.3F} | {:10.5f}\".format(feed_W,curr_cost))"
   ]
  },
  {
   "cell_type": "code",
   "execution_count": 16,
   "metadata": {},
   "outputs": [
    {
     "name": "stdout",
     "output_type": "stream",
     "text": [
      "    0 | 11716.3086 |  48.767971\n",
      "   10 |  4504.9126 |  30.619968\n",
      "   20 |  1732.1364 |  19.366755\n",
      "   30 |   666.0052 |  12.388859\n",
      "   40 |   256.0785 |   8.062004\n",
      "   50 |    98.4620 |   5.379007\n",
      "   60 |    37.8586 |   3.715335\n",
      "   70 |    14.5566 |   2.683725\n",
      "   80 |     5.5970 |   2.044044\n",
      "   90 |     2.1520 |   1.647391\n",
      "  100 |     0.8275 |   1.401434\n",
      "  110 |     0.3182 |   1.248922\n",
      "  120 |     0.1223 |   1.154351\n",
      "  130 |     0.0470 |   1.095710\n",
      "  140 |     0.0181 |   1.059348\n",
      "  150 |     0.0070 |   1.036801\n",
      "  160 |     0.0027 |   1.022819\n",
      "  170 |     0.0010 |   1.014150\n",
      "  180 |     0.0004 |   1.008774\n",
      "  190 |     0.0002 |   1.005441\n",
      "  200 |     0.0001 |   1.003374\n",
      "  210 |     0.0000 |   1.002092\n",
      "  220 |     0.0000 |   1.001297\n",
      "  230 |     0.0000 |   1.000804\n",
      "  240 |     0.0000 |   1.000499\n",
      "  250 |     0.0000 |   1.000309\n",
      "  260 |     0.0000 |   1.000192\n",
      "  270 |     0.0000 |   1.000119\n",
      "  280 |     0.0000 |   1.000074\n",
      "  290 |     0.0000 |   1.000046\n"
     ]
    }
   ],
   "source": [
    "#Gradient descent\n",
    "tf.set_random_seed(0)\n",
    "x_data=[1.,2.,3.,4.]\n",
    "y_data=[1.,3.,5.,7.]\n",
    "W=tf.Variable(tf.random_normal([1],-100.,100.))\n",
    "for step in range(300) :\n",
    "    hypothesis=W*X\n",
    "    cost=tf.reduce_mean(tf.square(hypothesis - Y))\n",
    "    \n",
    "    alpha=0.01\n",
    "    gradient=tf.reduce_mean(tf.multiply(tf.multiply(W,X)-Y,X))\n",
    "    descent=W - tf.multiply(alpha,gradient)\n",
    "    W.assign(descent)\n",
    "    \n",
    "    if step % 10 ==0 :\n",
    "        print('{:5} | {:10.4f} | {:10.6f}'.format(step, cost.numpy(),W.numpy()[0]))"
   ]
  },
  {
   "cell_type": "code",
   "execution_count": 18,
   "metadata": {},
   "outputs": [],
   "source": [
    "##git commit 반영되나\n"
   ]
  },
  {
   "cell_type": "code",
   "execution_count": null,
   "metadata": {},
   "outputs": [],
   "source": []
  }
 ],
 "metadata": {
  "kernelspec": {
   "display_name": "Python 3",
   "language": "python",
   "name": "python3"
  },
  "language_info": {
   "codemirror_mode": {
    "name": "ipython",
    "version": 3
   },
   "file_extension": ".py",
   "mimetype": "text/x-python",
   "name": "python",
   "nbconvert_exporter": "python",
   "pygments_lexer": "ipython3",
   "version": "3.6.8"
  }
 },
 "nbformat": 4,
 "nbformat_minor": 2
}
